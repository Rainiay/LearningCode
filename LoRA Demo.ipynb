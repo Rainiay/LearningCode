{
 "cells": [
  {
   "cell_type": "code",
   "execution_count": 1,
   "metadata": {},
   "outputs": [],
   "source": [
    "# -*- coding: utf-8 -*-\n",
    "import loralib as lora\n",
    "import torch\n",
    "import torch.nn as nn\n",
    "\n",
    "\n",
    "# define a model that contains two lora linear layers\n",
    "class Model(nn.Module):\n",
    "    def __init__(self, in_feature, d_dim, n_class):\n",
    "        super(Model, self).__init__()\n",
    "        self.layer1 = lora.Linear(in_feature, d_dim, r=16)\n",
    "        self.layer2 = lora.Linear(d_dim, n_class, r=16)\n",
    "        self.relu = nn.ReLU()\n",
    "        self.log_softmax = nn.LogSoftmax(dim=1)\n",
    "\n",
    "    def forward(self, x):\n",
    "        x = self.layer1(x)\n",
    "        x = self.relu(x)\n",
    "        x = self.layer2(x)\n",
    "        return self.log_softmax(x)"
   ]
  },
  {
   "cell_type": "code",
   "execution_count": 2,
   "metadata": {},
   "outputs": [
    {
     "name": "stdout",
     "output_type": "stream",
     "text": [
      "layer1.weight torch.Size([64, 128]) cpu not requires_grad\n",
      "layer1.bias torch.Size([64]) cpu not requires_grad\n",
      "layer1.lora_A torch.Size([16, 128]) cpu requires_grad\n",
      "layer1.lora_B torch.Size([64, 16]) cpu requires_grad\n",
      "layer2.weight torch.Size([2, 64]) cpu not requires_grad\n",
      "layer2.bias torch.Size([2]) cpu not requires_grad\n",
      "layer2.lora_A torch.Size([16, 64]) cpu requires_grad\n",
      "layer2.lora_B torch.Size([2, 16]) cpu requires_grad\n",
      "i: 0, loss: 0.738, acc: 0.438\n",
      "i: 10, loss: 0.733, acc: 0.438\n",
      "i: 20, loss: 0.718, acc: 0.438\n",
      "i: 30, loss: 0.693, acc: 0.625\n",
      "i: 40, loss: 0.653, acc: 0.625\n",
      "i: 50, loss: 0.601, acc: 0.750\n",
      "i: 60, loss: 0.537, acc: 0.875\n",
      "i: 70, loss: 0.465, acc: 0.938\n",
      "i: 80, loss: 0.391, acc: 1.000\n",
      "i: 90, loss: 0.320, acc: 1.000\n"
     ]
    }
   ],
   "source": [
    "if __name__ == \"__main__\":\n",
    "    # create a model\n",
    "    # Add a pair of low-rank adaptation matrices with rank r=16\n",
    "    in_features = 128\n",
    "    n_class = 2\n",
    "    d_dim = 64\n",
    "    model = Model(in_features, d_dim, n_class)\n",
    "\n",
    "    for name, param in model.named_parameters():\n",
    "        if \"lora\" in name:\n",
    "            print(name, param.shape, param.device, \"requires_grad\")\n",
    "            param.requires_grad = True\n",
    "        else:\n",
    "            print(name, param.shape, param.device, \"not requires_grad\")\n",
    "            param.requires_grad = False\n",
    "\n",
    "    # fake some input data\n",
    "\n",
    "    x = torch.randn(16, in_features)\n",
    "    y = torch.randint(0, n_class, (16,))\n",
    "\n",
    "    model.train()\n",
    "\n",
    "    optimizer = torch.optim.Adam(model.parameters(), lr=0.001)\n",
    "\n",
    "    for i in range(100):\n",
    "        optimizer.zero_grad()\n",
    "        output = model(x)\n",
    "        loss = torch.nn.functional.nll_loss(output, y)\n",
    "        loss.backward()\n",
    "        optimizer.step()\n",
    "        acc = (output.argmax(dim=1) == y).float().mean()\n",
    "        if i % 10 == 0:\n",
    "            print(f\"i: {i}, loss: {loss.item():.3f}, acc: {acc:.3f}\")"
   ]
  }
 ],
 "metadata": {
  "kernelspec": {
   "display_name": "Python 3",
   "language": "python",
   "name": "python3"
  },
  "language_info": {
   "codemirror_mode": {
    "name": "ipython",
    "version": 3
   },
   "file_extension": ".py",
   "mimetype": "text/x-python",
   "name": "python",
   "nbconvert_exporter": "python",
   "pygments_lexer": "ipython3",
   "version": "3.7.6"
  }
 },
 "nbformat": 4,
 "nbformat_minor": 4
}
